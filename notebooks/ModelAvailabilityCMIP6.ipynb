{
 "cells": [
  {
   "cell_type": "markdown",
   "metadata": {},
   "source": [
    "# Quick overview of model availability in CMIP6"
   ]
  },
  {
   "cell_type": "code",
   "execution_count": 1,
   "metadata": {},
   "outputs": [],
   "source": [
    "import pandas as pd"
   ]
  },
  {
   "cell_type": "code",
   "execution_count": 7,
   "metadata": {},
   "outputs": [],
   "source": [
    "Dir_SelectPath = '../SelectPaths_CMIP6/'\n"
   ]
  },
  {
   "cell_type": "code",
   "execution_count": 14,
   "metadata": {},
   "outputs": [
    {
     "name": "stdout",
     "output_type": "stream",
     "text": [
      "### Looking at variable zostoga #######\n",
      "Number of model available for scenario ssp119\n",
      "4\n",
      "Number of model available for scenario ssp126\n",
      "13\n",
      "Number of model available for scenario ssp245\n",
      "13\n",
      "Number of model available for scenario ssp370\n",
      "14\n",
      "Number of model available for scenario ssp585\n",
      "13\n",
      "### Looking at variable zos #######\n",
      "Number of model available for scenario ssp119\n",
      "6\n",
      "Number of model available for scenario ssp126\n",
      "22\n",
      "Number of model available for scenario ssp245\n",
      "22\n",
      "Number of model available for scenario ssp370\n",
      "22\n",
      "Number of model available for scenario ssp585\n",
      "22\n"
     ]
    }
   ],
   "source": [
    "for var in ['zostoga', 'zos']:\n",
    "    print(f'### Looking at variable {var} #######')\n",
    "    for sce in ['ssp119', 'ssp126', 'ssp245', 'ssp370', 'ssp585']:\n",
    "        ModelList = pd.read_csv(f'{Dir_SelectPath}AvailableExperiments_{var}_historical_piControl_{sce}.csv')\n",
    "        print(f'Number of model available for scenario {sce}')\n",
    "        print(len(ModelList))"
   ]
  },
  {
   "cell_type": "code",
   "execution_count": 13,
   "metadata": {},
   "outputs": [
    {
     "data": {
      "text/plain": [
       "22"
      ]
     },
     "execution_count": 13,
     "metadata": {},
     "output_type": "execute_result"
    }
   ],
   "source": [
    "len(ModelList)"
   ]
  },
  {
   "cell_type": "code",
   "execution_count": null,
   "metadata": {},
   "outputs": [],
   "source": []
  }
 ],
 "metadata": {
  "kernelspec": {
   "display_name": "Python [conda env:p38ds] *",
   "language": "python",
   "name": "conda-env-p38ds-py"
  },
  "language_info": {
   "codemirror_mode": {
    "name": "ipython",
    "version": 3
   },
   "file_extension": ".py",
   "mimetype": "text/x-python",
   "name": "python",
   "nbconvert_exporter": "python",
   "pygments_lexer": "ipython3",
   "version": "3.8.5"
  }
 },
 "nbformat": 4,
 "nbformat_minor": 4
}
