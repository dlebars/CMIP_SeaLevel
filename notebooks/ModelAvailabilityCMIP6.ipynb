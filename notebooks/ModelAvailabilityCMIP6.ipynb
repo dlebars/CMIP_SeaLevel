{
 "cells": [
  {
   "cell_type": "markdown",
   "metadata": {},
   "source": [
    "# Quick overview of model availability in CMIP6"
   ]
  },
  {
   "cell_type": "code",
   "execution_count": 1,
   "metadata": {},
   "outputs": [],
   "source": [
    "import pandas as pd"
   ]
  },
  {
   "cell_type": "code",
   "execution_count": 7,
   "metadata": {},
   "outputs": [],
   "source": [
    "Dir_SelectPath = '../SelectPaths_CMIP6/'\n"
   ]
  },
  {
   "cell_type": "code",
   "execution_count": 18,
   "metadata": {},
   "outputs": [
    {
     "name": "stdout",
     "output_type": "stream",
     "text": [
      "### Looking at variable zostoga #######\n",
      "Number of model available for scenario ssp119: 4\n",
      "\n",
      "Number of model available for scenario ssp126: 14\n",
      "\n",
      "Number of model available for scenario ssp245: 14\n",
      "\n",
      "Number of model available for scenario ssp370: 15\n",
      "\n",
      "Number of model available for scenario ssp585: 14\n",
      "\n",
      "### Looking at variable zos #######\n",
      "Number of model available for scenario ssp119: 7\n",
      "\n",
      "Number of model available for scenario ssp126: 23\n",
      "\n",
      "Number of model available for scenario ssp245: 23\n",
      "\n",
      "Number of model available for scenario ssp370: 23\n",
      "\n",
      "Number of model available for scenario ssp585: 23\n",
      "\n"
     ]
    }
   ],
   "source": [
    "for var in ['zostoga', 'zos']:\n",
    "    print(f'### Looking at variable {var} #######')\n",
    "    for sce in ['ssp119', 'ssp126', 'ssp245', 'ssp370', 'ssp585']:\n",
    "        ModelList = pd.read_csv(f'{Dir_SelectPath}AvailableExperiments_{var}_historical_piControl_{sce}.csv')\n",
    "        print(f'Number of model available for scenario {sce}: {len(ModelList)}')\n",
    "        print('')"
   ]
  },
  {
   "cell_type": "markdown",
   "metadata": {},
   "source": [
    "## Data from before August 6\n",
    "### Looking at variable zostoga #######\n",
    "\n",
    "Number of model available for scenario ssp119: 4\n",
    "\n",
    "Number of model available for scenario ssp126: 13\n",
    "\n",
    "Number of model available for scenario ssp245: 13\n",
    "\n",
    "Number of model available for scenario ssp370: 14\n",
    "\n",
    "Number of model available for scenario ssp585: 13\n",
    "\n",
    "### Looking at variable zos #######\n",
    "\n",
    "Number of model available for scenario ssp119: 6\n",
    "\n",
    "Number of model available for scenario ssp126: 22\n",
    "\n",
    "Number of model available for scenario ssp245: 22\n",
    "\n",
    "Number of model available for scenario ssp370: 22\n",
    "\n",
    "Number of model available for scenario ssp585: 22"
   ]
  },
  {
   "cell_type": "markdown",
   "metadata": {},
   "source": [
    "## Data from August 6\n",
    "### Looking at variable zostoga #######\n",
    "Number of model available for scenario ssp119: 4\n",
    "\n",
    "Number of model available for scenario ssp126: 14\n",
    "\n",
    "Number of model available for scenario ssp245: 14\n",
    "\n",
    "Number of model available for scenario ssp370: 15\n",
    "\n",
    "Number of model available for scenario ssp585: 14\n",
    "\n",
    "### Looking at variable zos #######\n",
    "Number of model available for scenario ssp119: 7\n",
    "\n",
    "Number of model available for scenario ssp126: 23\n",
    "\n",
    "Number of model available for scenario ssp245: 23\n",
    "\n",
    "Number of model available for scenario ssp370: 23\n",
    "\n",
    "Number of model available for scenario ssp585: 23"
   ]
  },
  {
   "cell_type": "code",
   "execution_count": null,
   "metadata": {},
   "outputs": [],
   "source": []
  }
 ],
 "metadata": {
  "kernelspec": {
   "display_name": "Python [conda env:p38ds] *",
   "language": "python",
   "name": "conda-env-p38ds-py"
  },
  "language_info": {
   "codemirror_mode": {
    "name": "ipython",
    "version": 3
   },
   "file_extension": ".py",
   "mimetype": "text/x-python",
   "name": "python",
   "nbconvert_exporter": "python",
   "pygments_lexer": "ipython3",
   "version": "3.8.5"
  }
 },
 "nbformat": 4,
 "nbformat_minor": 4
}
