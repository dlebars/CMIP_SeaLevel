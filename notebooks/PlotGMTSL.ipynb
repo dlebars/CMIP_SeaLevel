{
 "cells": [
  {
   "cell_type": "markdown",
   "metadata": {},
   "source": [
    "# Plot Global Mean Thermosteric Sea Level"
   ]
  },
  {
   "cell_type": "code",
   "execution_count": 32,
   "metadata": {},
   "outputs": [],
   "source": [
    "import xarray as xr\n",
    "import numpy as np"
   ]
  },
  {
   "cell_type": "code",
   "execution_count": 17,
   "metadata": {},
   "outputs": [],
   "source": [
    "data_dir = '../outputs/'"
   ]
  },
  {
   "cell_type": "code",
   "execution_count": 18,
   "metadata": {},
   "outputs": [
    {
     "name": "stdout",
     "output_type": "stream",
     "text": [
      "CMIP5_SeaLevel_rcp85_zostoga_1986-2100.nc\n",
      "CMIP6_SeaLevel_ssp585_zostoga_1986-2100.nc\n"
     ]
    }
   ],
   "source": [
    "!ls {data_dir}"
   ]
  },
  {
   "cell_type": "markdown",
   "metadata": {},
   "source": [
    "### Plot zostoga"
   ]
  },
  {
   "cell_type": "code",
   "execution_count": 19,
   "metadata": {},
   "outputs": [],
   "source": [
    "zostoga_CMIP5  = xr.open_dataset(data_dir+'CMIP5_SeaLevel_rcp85_zostoga_1986-2100.nc')"
   ]
  },
  {
   "cell_type": "code",
   "execution_count": 20,
   "metadata": {},
   "outputs": [
    {
     "data": {
      "text/plain": [
       "<xarray.Dataset>\n",
       "Dimensions:            (experiment: 2, model: 24, time: 114)\n",
       "Coordinates:\n",
       "  * experiment         (experiment) object 'rcp85' 'piControl'\n",
       "  * model              (model) object 'bcc-csm1-1' ... 'MPI-ESM-MR'\n",
       "  * time               (time) float64 1.986e+03 1.988e+03 ... 2.098e+03 2.1e+03\n",
       "Data variables:\n",
       "    zostoga_detrended  (experiment, model, time) float64 ...\n",
       "Attributes:\n",
       "    source_file:    This NetCDF file was built from ComputeGlobalMeanThermalE...\n",
       "    creation_date:  2020-06-10 15:34"
      ]
     },
     "execution_count": 20,
     "metadata": {},
     "output_type": "execute_result"
    }
   ],
   "source": [
    "zostoga_CMIP5"
   ]
  },
  {
   "cell_type": "code",
   "execution_count": 30,
   "metadata": {},
   "outputs": [
    {
     "data": {
      "text/plain": [
       "[<matplotlib.lines.Line2D at 0x7f85784ea410>]"
      ]
     },
     "execution_count": 30,
     "metadata": {},
     "output_type": "execute_result"
    },
    {
     "data": {
      "image/png": "[encoded data removed]",
      "text/plain": [
       "<Figure size 432x288 with 1 Axes>"
      ]
     },
     "metadata": {
      "needs_background": "light"
     },
     "output_type": "display_data"
    }
   ],
   "source": [
    "zostoga_CMIP5.zostoga_detrended.sel(experiment='rcp85', model='bcc-csm1-1').plot()"
   ]
  },
  {
   "cell_type": "code",
   "execution_count": 29,
   "metadata": {},
   "outputs": [
    {
     "data": {
      "text/plain": [
       "<xarray.DataArray 'zostoga_detrended' (time: 114)>\n",
       "array([-0.011191, -0.009544, -0.007234, -0.00478 , -0.002739, -0.001673,\n",
       "       -0.006381, -0.00597 , -0.003715, -0.001826, -0.000343,  0.001062,\n",
       "        0.003702,  0.005082,  0.005933,  0.00794 ,  0.009159,  0.010284,\n",
       "        0.012236,  0.013749,  0.01555 ,  0.017799,  0.018715,  0.020199,\n",
       "        0.021396,  0.021512,  0.022382,  0.024462,  0.026354,  0.028987,\n",
       "        0.030888,  0.032349,  0.034439,  0.035453,  0.036983,  0.038297,\n",
       "        0.040257,  0.042942,  0.044174,  0.047197,  0.049283,  0.051761,\n",
       "        0.052445,  0.054334,  0.056842,  0.058766,  0.061012,  0.06415 ,\n",
       "        0.066974,  0.068167,  0.070087,  0.072382,  0.074284,  0.077456,\n",
       "        0.07943 ,  0.081285,  0.083301,  0.084947,  0.088109,  0.090271,\n",
       "        0.091729,  0.09388 ,  0.09708 ,  0.100166,  0.103237,  0.105966,\n",
       "        0.108953,  0.112555,  0.114935,  0.117571,  0.120652,  0.122847,\n",
       "        0.125989,  0.129535,  0.133256,  0.136728,  0.140692,  0.144626,\n",
       "        0.147648,  0.151598,  0.155603,  0.159385,  0.162566,  0.165763,\n",
       "        0.168827,  0.17234 ,  0.176234,  0.179166,  0.183013,  0.187106,\n",
       "        0.191306,  0.194478,  0.198372,  0.202794,  0.206288,  0.209992,\n",
       "        0.213598,  0.217234,  0.22117 ,  0.224794,  0.229218,  0.232721,\n",
       "        0.235889,  0.240662,  0.244739,  0.248567,  0.25292 ,  0.257212,\n",
       "        0.26101 ,  0.264688,  0.268757,  0.272997,  0.275667,  0.279967])\n",
       "Coordinates:\n",
       "    experiment  <U5 'rcp85'\n",
       "    model       <U10 'bcc-csm1-1'\n",
       "  * time        (time) float64 1.986e+03 1.988e+03 ... 2.098e+03 2.1e+03"
      ]
     },
     "execution_count": 29,
     "metadata": {},
     "output_type": "execute_result"
    }
   ],
   "source": [
    "zostoga_CMIP5.zostoga_detrended.sel(experiment='rcp85', model='bcc-csm1-1')"
   ]
  },
  {
   "cell_type": "markdown",
   "metadata": {},
   "source": [
    "### Tests"
   ]
  },
  {
   "cell_type": "code",
   "execution_count": 34,
   "metadata": {},
   "outputs": [
    {
     "data": {
      "text/plain": [
       "array([2006, 2007, 2008, 2009, 2010, 2011, 2012, 2013, 2014, 2015, 2016,\n",
       "       2017, 2018, 2019, 2020, 2021, 2022, 2023, 2024, 2025, 2026, 2027,\n",
       "       2028, 2029, 2030, 2031, 2032, 2033, 2034, 2035, 2036, 2037, 2038,\n",
       "       2039, 2040, 2041, 2042, 2043, 2044, 2045, 2046, 2047, 2048, 2049,\n",
       "       2050, 2051, 2052, 2053, 2054, 2055, 2056, 2057, 2058, 2059, 2060,\n",
       "       2061, 2062, 2063, 2064, 2065, 2066, 2067, 2068, 2069, 2070, 2071,\n",
       "       2072, 2073, 2074, 2075, 2076, 2077, 2078, 2079, 2080, 2081, 2082,\n",
       "       2083, 2084, 2085, 2086, 2087, 2088, 2089, 2090, 2091, 2092, 2093,\n",
       "       2094, 2095, 2096, 2097, 2098, 2099])"
      ]
     },
     "execution_count": 34,
     "metadata": {},
     "output_type": "execute_result"
    }
   ],
   "source": [
    "years_s = np.arange(2006,2100)\n",
    "years_s"
   ]
  },
  {
   "cell_type": "code",
   "execution_count": null,
   "metadata": {},
   "outputs": [],
   "source": []
  }
 ],
 "metadata": {
  "kernelspec": {
   "display_name": "Python [conda env:p37ds] *",
   "language": "python",
   "name": "conda-env-p37ds-py"
  },
  "language_info": {
   "codemirror_mode": {
    "name": "ipython",
    "version": 3
   },
   "file_extension": ".py",
   "mimetype": "text/x-python",
   "name": "python",
   "nbconvert_exporter": "python",
   "pygments_lexer": "ipython3",
   "version": "3.7.4"
  }
 },
 "nbformat": 4,
 "nbformat_minor": 4
}
