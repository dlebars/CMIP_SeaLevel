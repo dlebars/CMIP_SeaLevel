{
 "cells": [
  {
   "cell_type": "markdown",
   "metadata": {},
   "source": [
    "# Plot Global Mean Thermosteric Sea Level"
   ]
  },
  {
   "cell_type": "markdown",
   "metadata": {},
   "source": [
    "### Test the pathlib library"
   ]
  },
  {
   "cell_type": "code",
   "execution_count": 1,
   "metadata": {},
   "outputs": [
    {
     "name": "stderr",
     "output_type": "stream",
     "text": [
      "/Users/dewilebars/anaconda3/envs/p37ds/lib/python3.7/site-packages/xarray/core/merge.py:17: FutureWarning: The Panel class is removed from pandas. Accessing it from the top-level namespace will also be removed in the next version\n",
      "  PANDAS_TYPES = (pd.Series, pd.DataFrame, pd.Panel)\n"
     ]
    }
   ],
   "source": [
    "from pathlib import Path\n",
    "import numpy as np\n",
    "from scipy import signal\n",
    "import xarray as xr"
   ]
  },
  {
   "cell_type": "code",
   "execution_count": 42,
   "metadata": {},
   "outputs": [
    {
     "data": {
      "text/plain": [
       "[PosixPath('../SLProj/LICENSE'),\n",
       " PosixPath('../SLProj/code'),\n",
       " PosixPath('../SLProj/README.md'),\n",
       " PosixPath('../SLProj/namelists'),\n",
       " PosixPath('../SLProj/ref_results'),\n",
       " PosixPath('../SLProj/.gitignore'),\n",
       " PosixPath('../SLProj/figures'),\n",
       " PosixPath('../SLProj/.ipynb_checkpoints'),\n",
       " PosixPath('../SLProj/.git'),\n",
       " PosixPath('../SLProj/outputs'),\n",
       " PosixPath('../SLProj/notebooks'),\n",
       " PosixPath('../SLProj/reports')]"
      ]
     },
     "execution_count": 42,
     "metadata": {},
     "output_type": "execute_result"
    }
   ],
   "source": [
    "p = Path('../SLProj/')\n",
    "[x for x in p.iterdir()] #if x.is_dir() -> What is that?"
   ]
  },
  {
   "cell_type": "code",
   "execution_count": 55,
   "metadata": {},
   "outputs": [
    {
     "data": {
      "text/plain": [
       "'mod_main.cpython-37.pyc'"
      ]
     },
     "execution_count": 55,
     "metadata": {},
     "output_type": "execute_result"
    }
   ],
   "source": [
    "list(p.glob('*/*/*'))[0].parts[4]"
   ]
  },
  {
   "cell_type": "code",
   "execution_count": 49,
   "metadata": {},
   "outputs": [
    {
     "ename": "TypeError",
     "evalue": "'generator' object is not subscriptable",
     "output_type": "error",
     "traceback": [
      "\u001b[0;31m---------------------------------------------------------------------------\u001b[0m",
      "\u001b[0;31mTypeError\u001b[0m                                 Traceback (most recent call last)",
      "\u001b[0;32m<ipython-input-49-0c3bd727cf89>\u001b[0m in \u001b[0;36m<module>\u001b[0;34m\u001b[0m\n\u001b[0;32m----> 1\u001b[0;31m \u001b[0mp\u001b[0m\u001b[0;34m.\u001b[0m\u001b[0mglob\u001b[0m\u001b[0;34m(\u001b[0m\u001b[0;34m'*/*/*'\u001b[0m\u001b[0;34m)\u001b[0m\u001b[0;34m[\u001b[0m\u001b[0;36m1\u001b[0m\u001b[0;34m]\u001b[0m\u001b[0;34m.\u001b[0m\u001b[0mparts\u001b[0m \u001b[0;31m# This gives only the commnon part of the path\u001b[0m\u001b[0;34m\u001b[0m\u001b[0;34m\u001b[0m\u001b[0m\n\u001b[0m",
      "\u001b[0;31mTypeError\u001b[0m: 'generator' object is not subscriptable"
     ]
    }
   ],
   "source": [
    "p.glob('*/*/*')[1].parts # This gives only the commnon part of the path"
   ]
  },
  {
   "cell_type": "code",
   "execution_count": 33,
   "metadata": {},
   "outputs": [
    {
     "data": {
      "text/plain": [
       "array([1986.5, 1987.5, 1988.5, 1989.5, 1990.5, 1991.5, 1992.5, 1993.5,\n",
       "       1994.5, 1995.5, 1996.5, 1997.5, 1998.5, 1999.5, 2000.5, 2001.5,\n",
       "       2002.5, 2003.5, 2004.5, 2005.5, 2006.5, 2007.5, 2008.5, 2009.5,\n",
       "       2010.5, 2011.5, 2012.5, 2013.5, 2014.5, 2015.5, 2016.5, 2017.5,\n",
       "       2018.5, 2019.5, 2020.5, 2021.5, 2022.5, 2023.5, 2024.5, 2025.5,\n",
       "       2026.5, 2027.5, 2028.5, 2029.5, 2030.5, 2031.5, 2032.5, 2033.5,\n",
       "       2034.5, 2035.5, 2036.5, 2037.5, 2038.5, 2039.5, 2040.5, 2041.5,\n",
       "       2042.5, 2043.5, 2044.5, 2045.5, 2046.5, 2047.5, 2048.5, 2049.5,\n",
       "       2050.5, 2051.5, 2052.5, 2053.5, 2054.5, 2055.5, 2056.5, 2057.5,\n",
       "       2058.5, 2059.5, 2060.5, 2061.5, 2062.5, 2063.5, 2064.5, 2065.5,\n",
       "       2066.5, 2067.5, 2068.5, 2069.5, 2070.5, 2071.5, 2072.5, 2073.5,\n",
       "       2074.5, 2075.5, 2076.5, 2077.5, 2078.5, 2079.5, 2080.5, 2081.5,\n",
       "       2082.5, 2083.5, 2084.5, 2085.5, 2086.5, 2087.5, 2088.5, 2089.5,\n",
       "       2090.5, 2091.5, 2092.5, 2093.5, 2094.5, 2095.5, 2096.5, 2097.5,\n",
       "       2098.5, 2099.5])"
      ]
     },
     "execution_count": 33,
     "metadata": {},
     "output_type": "execute_result"
    }
   ],
   "source": [
    "year_min = 1986  # Included\n",
    "year_max = 2100  # Excluded (2101)\n",
    "time_all = np.arange(year_min, year_max)+0.5\n",
    "time_all"
   ]
  },
  {
   "cell_type": "code",
   "execution_count": 34,
   "metadata": {},
   "outputs": [
    {
     "name": "stdout",
     "output_type": "stream",
     "text": [
      "0\n",
      "1\n"
     ]
    }
   ],
   "source": [
    "for j in range(2):\n",
    "    print(j)"
   ]
  },
  {
   "cell_type": "code",
   "execution_count": 57,
   "metadata": {},
   "outputs": [
    {
     "data": {
      "text/plain": [
       "['v20130719', 'v20110929']"
      ]
     },
     "execution_count": 57,
     "metadata": {},
     "output_type": "execute_result"
    }
   ],
   "source": [
    "#Ordering strings:\n",
    "al = ['v20130719', 'v20110929']\n",
    "al"
   ]
  },
  {
   "cell_type": "code",
   "execution_count": 59,
   "metadata": {},
   "outputs": [
    {
     "data": {
      "text/plain": [
       "['v20110929', 'v20130719']"
      ]
     },
     "execution_count": 59,
     "metadata": {},
     "output_type": "execute_result"
    }
   ],
   "source": [
    "al.sort()\n",
    "al"
   ]
  },
  {
   "cell_type": "code",
   "execution_count": 67,
   "metadata": {},
   "outputs": [
    {
     "data": {
      "text/plain": [
       "['rs', 'rs', 'rs']"
      ]
     },
     "execution_count": 67,
     "metadata": {},
     "output_type": "execute_result"
    }
   ],
   "source": [
    "vs = []\n",
    "for k in range(3):\n",
    "    vs.append('rs')\n",
    "vs"
   ]
  },
  {
   "cell_type": "code",
   "execution_count": 70,
   "metadata": {},
   "outputs": [
    {
     "data": {
      "text/plain": [
       "array([1., 2., 3., 1., 1.])"
      ]
     },
     "execution_count": 70,
     "metadata": {},
     "output_type": "execute_result"
    }
   ],
   "source": [
    "a1 = np.array([1,2,3])\n",
    "a2 = np.ones(2)\n",
    "a2 = np.append(a1,a2)\n",
    "a2"
   ]
  },
  {
   "cell_type": "code",
   "execution_count": 81,
   "metadata": {},
   "outputs": [],
   "source": [
    "a = [1, 2, 3]\n",
    "b = [1, 2, 4]\n",
    "c = b\n",
    "if a in (b, c):\n",
    "    print('Yes')\n"
   ]
  },
  {
   "cell_type": "code",
   "execution_count": 87,
   "metadata": {},
   "outputs": [
    {
     "data": {
      "text/plain": [
       "2"
      ]
     },
     "execution_count": 87,
     "metadata": {},
     "output_type": "execute_result"
    }
   ],
   "source": [
    "a = np.array([1, 2, 3, 4, np.nan, np.nan])\n",
    "np.sum(np.isnan(a))"
   ]
  },
  {
   "cell_type": "code",
   "execution_count": 96,
   "metadata": {},
   "outputs": [
    {
     "data": {
      "text/plain": [
       "(3, 10)"
      ]
     },
     "execution_count": 96,
     "metadata": {},
     "output_type": "execute_result"
    }
   ],
   "source": [
    "# Detrending test: Use scipy.detrend \n",
    "a = np.arange(10)\n",
    "A = np.array([a,a,a])\n",
    "A_d = signal.detrend(A, axis=1, type='linear')\n",
    "A_d.shape"
   ]
  },
  {
   "cell_type": "code",
   "execution_count": 101,
   "metadata": {},
   "outputs": [],
   "source": [
    "# Test the xarray.concat option\n",
    "N = 10\n",
    "times1 = np.arange(N)\n",
    "times2 = np.arange(N)+8\n",
    "data1 = times1*2\n",
    "data2 = times2*3\n",
    "da1 = xr.DataArray(data1, coords=[times1], dims=['time'])\n",
    "da2 = xr.DataArray(data2, coords=[times2], dims=['time'])"
   ]
  },
  {
   "cell_type": "code",
   "execution_count": 100,
   "metadata": {},
   "outputs": [
    {
     "data": {
      "text/plain": [
       "<xarray.DataArray (time: 10)>\n",
       "array([ 0,  2,  4,  6,  8, 10, 12, 14, 16, 18])\n",
       "Coordinates:\n",
       "  * time     (time) int64 0 1 2 3 4 5 6 7 8 9"
      ]
     },
     "execution_count": 100,
     "metadata": {},
     "output_type": "execute_result"
    }
   ],
   "source": [
    "da1"
   ]
  },
  {
   "cell_type": "code",
   "execution_count": 102,
   "metadata": {},
   "outputs": [
    {
     "data": {
      "text/plain": [
       "<xarray.DataArray (time: 10)>\n",
       "array([24, 27, 30, 33, 36, 39, 42, 45, 48, 51])\n",
       "Coordinates:\n",
       "  * time     (time) int64 8 9 10 11 12 13 14 15 16 17"
      ]
     },
     "execution_count": 102,
     "metadata": {},
     "output_type": "execute_result"
    }
   ],
   "source": [
    "da2"
   ]
  },
  {
   "cell_type": "code",
   "execution_count": 105,
   "metadata": {},
   "outputs": [],
   "source": [
    "# Concatenation without option does not treat the problem of overlapping time coordinates\n",
    "dac = xr.concat([da1,da2],dim='time')"
   ]
  },
  {
   "cell_type": "code",
   "execution_count": 106,
   "metadata": {},
   "outputs": [
    {
     "data": {
      "text/plain": [
       "<xarray.DataArray (time: 20)>\n",
       "array([ 0,  2,  4,  6,  8, 10, 12, 14, 16, 18, 24, 27, 30, 33, 36, 39, 42, 45,\n",
       "       48, 51])\n",
       "Coordinates:\n",
       "  * time     (time) int64 0 1 2 3 4 5 6 7 8 9 8 9 10 11 12 13 14 15 16 17"
      ]
     },
     "execution_count": 106,
     "metadata": {},
     "output_type": "execute_result"
    }
   ],
   "source": [
    "dac"
   ]
  },
  {
   "cell_type": "code",
   "execution_count": 110,
   "metadata": {},
   "outputs": [],
   "source": [
    "da1_a, da2_a = xr.align(da1, da2, join='outer')"
   ]
  },
  {
   "cell_type": "code",
   "execution_count": 111,
   "metadata": {},
   "outputs": [
    {
     "data": {
      "text/plain": [
       "<xarray.DataArray (time: 18)>\n",
       "array([ 0.,  2.,  4.,  6.,  8., 10., 12., 14., 16., 18., nan, nan, nan, nan,\n",
       "       nan, nan, nan, nan])\n",
       "Coordinates:\n",
       "  * time     (time) int64 0 1 2 3 4 5 6 7 8 9 10 11 12 13 14 15 16 17"
      ]
     },
     "execution_count": 111,
     "metadata": {},
     "output_type": "execute_result"
    }
   ],
   "source": [
    "da1_a"
   ]
  },
  {
   "cell_type": "code",
   "execution_count": 112,
   "metadata": {},
   "outputs": [
    {
     "data": {
      "text/plain": [
       "<xarray.DataArray (time: 18)>\n",
       "array([nan, nan, nan, nan, nan, nan, nan, nan, 24., 27., 30., 33., 36., 39.,\n",
       "       42., 45., 48., 51.])\n",
       "Coordinates:\n",
       "  * time     (time) int64 0 1 2 3 4 5 6 7 8 9 10 11 12 13 14 15 16 17"
      ]
     },
     "execution_count": 112,
     "metadata": {},
     "output_type": "execute_result"
    }
   ],
   "source": [
    "da2_a"
   ]
  },
  {
   "cell_type": "code",
   "execution_count": 9,
   "metadata": {},
   "outputs": [],
   "source": [
    "# Test removing discontinuities\n",
    "N = 10\n",
    "times1 = np.arange(N)\n",
    "times2 = np.arange(N)+N\n",
    "data1 = times1\n",
    "data2 = times2*2\n",
    "da1 = xr.DataArray(data1, coords=[times1], dims=['time'])\n",
    "da2 = xr.DataArray(data2, coords=[times2], dims=['time'])\n",
    "dac = xr.concat([da1,da2],dim='time')"
   ]
  },
  {
   "cell_type": "code",
   "execution_count": 10,
   "metadata": {},
   "outputs": [
    {
     "data": {
      "text/plain": [
       "<xarray.DataArray (time: 20)>\n",
       "array([ 0,  1,  2,  3,  4,  5,  6,  7,  8,  9, 20, 22, 24, 26, 28, 30, 32, 34,\n",
       "       36, 38])\n",
       "Coordinates:\n",
       "  * time     (time) int64 0 1 2 3 4 5 6 7 8 9 10 11 12 13 14 15 16 17 18 19"
      ]
     },
     "execution_count": 10,
     "metadata": {},
     "output_type": "execute_result"
    }
   ],
   "source": [
    "dac"
   ]
  },
  {
   "cell_type": "code",
   "execution_count": 11,
   "metadata": {},
   "outputs": [],
   "source": [
    "def remove_discontinuities(da, gap):\n",
    "    '''Remove discontinuities'''\n",
    "    da_out = da.copy()\n",
    "    diff = np.array(da[1:]) - np.array(da[:-1])\n",
    "    print(diff)\n",
    "    indpb = np.where(np.abs(diff) > gap)[0]\n",
    "    print(\"### Indices at which there are discontinuities: ####\")\n",
    "    print(indpb)\n",
    "    for k in indpb:\n",
    "        da_out[k+1:] = da[k+1:] - da[k+1] + da[k]\n",
    "    return da_out"
   ]
  },
  {
   "cell_type": "code",
   "execution_count": 12,
   "metadata": {},
   "outputs": [
    {
     "name": "stdout",
     "output_type": "stream",
     "text": [
      "[ 1  1  1  1  1  1  1  1  1 11  2  2  2  2  2  2  2  2  2]\n",
      "### Indices at which there are discontinuities: ####\n",
      "[9]\n"
     ]
    }
   ],
   "source": [
    "dac_new = remove_discontinuities(dac,3)"
   ]
  },
  {
   "cell_type": "code",
   "execution_count": 14,
   "metadata": {},
   "outputs": [
    {
     "data": {
      "text/plain": [
       "<xarray.DataArray (time: 20)>\n",
       "array([ 0,  1,  2,  3,  4,  5,  6,  7,  8,  9,  9, 11, 13, 15, 17, 19, 21, 23,\n",
       "       25, 27])\n",
       "Coordinates:\n",
       "  * time     (time) int64 0 1 2 3 4 5 6 7 8 9 10 11 12 13 14 15 16 17 18 19"
      ]
     },
     "execution_count": 14,
     "metadata": {},
     "output_type": "execute_result"
    }
   ],
   "source": [
    "dac_new"
   ]
  },
  {
   "cell_type": "code",
   "execution_count": 34,
   "metadata": {},
   "outputs": [],
   "source": [
    "timeUTa = np.arange(20)\n",
    "year_min = 5\n",
    "year_max = 15\n",
    "indt = np.where((timeUTa >= year_min) & (timeUTa < year_max))[0]\n",
    "#indt = np.where(timeUTa >= year_min)[0]"
   ]
  },
  {
   "cell_type": "code",
   "execution_count": 35,
   "metadata": {},
   "outputs": [
    {
     "data": {
      "text/plain": [
       "array([ 5,  6,  7,  8,  9, 10, 11, 12, 13, 14])"
      ]
     },
     "execution_count": 35,
     "metadata": {},
     "output_type": "execute_result"
    }
   ],
   "source": [
    "indt"
   ]
  },
  {
   "cell_type": "code",
   "execution_count": 23,
   "metadata": {},
   "outputs": [],
   "source": [
    "indt = np.asarray(timeUTa >= year_min).nonzero()\n",
    "indt = np.asarray(timeUTa[indt] <= year_max).nonzero()"
   ]
  },
  {
   "cell_type": "code",
   "execution_count": 27,
   "metadata": {},
   "outputs": [],
   "source": [
    "indt = timeUTa[(timeUTa >= year_min) & (timeUTa <= year_max)]"
   ]
  },
  {
   "cell_type": "code",
   "execution_count": 28,
   "metadata": {},
   "outputs": [
    {
     "data": {
      "text/plain": [
       "array([ 5,  6,  7,  8,  9, 10, 11, 12, 13, 14, 15])"
      ]
     },
     "execution_count": 28,
     "metadata": {},
     "output_type": "execute_result"
    }
   ],
   "source": [
    "indt"
   ]
  },
  {
   "cell_type": "code",
   "execution_count": 36,
   "metadata": {},
   "outputs": [
    {
     "data": {
      "text/plain": [
       "5"
      ]
     },
     "execution_count": 36,
     "metadata": {},
     "output_type": "execute_result"
    }
   ],
   "source": [
    "indt[0]"
   ]
  },
  {
   "cell_type": "code",
   "execution_count": 48,
   "metadata": {},
   "outputs": [
    {
     "data": {
      "text/plain": [
       "<xarray.DataArray (time: 20)>\n",
       "array([ 0,  1,  2,  3,  4,  5,  6,  7,  8,  9, 20, 22, 24, 26, 28, 30, 32, 34,\n",
       "       36, 38])\n",
       "Coordinates:\n",
       "  * time     (time) int64 0 1 2 3 4 5 6 7 8 9 10 11 12 13 14 15 16 17 18 19\n",
       "    year     (time) int64 0 1 2 3 4 5 6 7 8 9 10 11 12 13 14 15 16 17 18 19"
      ]
     },
     "execution_count": 48,
     "metadata": {},
     "output_type": "execute_result"
    }
   ],
   "source": [
    "years = xr.DataArray(np.arange(len(dac)), dims=['time'])\n",
    "dac.coords['year'] = years\n",
    "dac"
   ]
  },
  {
   "cell_type": "code",
   "execution_count": 40,
   "metadata": {},
   "outputs": [
    {
     "data": {
      "text/plain": [
       "array([ 0,  1,  2,  3,  4,  5,  6,  7,  8,  9, 10, 11, 12, 13, 14, 15, 16,\n",
       "       17, 18, 19])"
      ]
     },
     "execution_count": 40,
     "metadata": {},
     "output_type": "execute_result"
    }
   ],
   "source": [
    "np.arange(len(dac))"
   ]
  },
  {
   "cell_type": "code",
   "execution_count": 45,
   "metadata": {},
   "outputs": [
    {
     "data": {
      "text/plain": [
       "<xarray.DataArray 'time' (time: 20)>\n",
       "array([ 0,  1,  2,  3,  4,  5,  6,  7,  8,  9, 10, 11, 12, 13, 14, 15, 16, 17,\n",
       "       18, 19])\n",
       "Coordinates:\n",
       "  * time     (time) int64 0 1 2 3 4 5 6 7 8 9 10 11 12 13 14 15 16 17 18 19"
      ]
     },
     "execution_count": 45,
     "metadata": {},
     "output_type": "execute_result"
    }
   ],
   "source": [
    "dac.time"
   ]
  },
  {
   "cell_type": "code",
   "execution_count": null,
   "metadata": {},
   "outputs": [],
   "source": []
  }
 ],
 "metadata": {
  "kernelspec": {
   "display_name": "Python [conda env:p37ds] *",
   "language": "python",
   "name": "conda-env-p37ds-py"
  },
  "language_info": {
   "codemirror_mode": {
    "name": "ipython",
    "version": 3
   },
   "file_extension": ".py",
   "mimetype": "text/x-python",
   "name": "python",
   "nbconvert_exporter": "python",
   "pygments_lexer": "ipython3",
   "version": "3.7.4"
  }
 },
 "nbformat": 4,
 "nbformat_minor": 4
}
